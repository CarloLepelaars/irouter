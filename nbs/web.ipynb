{
 "cells": [
  {
   "cell_type": "markdown",
   "id": "e495cf1e",
   "metadata": {},
   "source": [
    "# Web\n",
    "\n",
    "`irouter` objects `Call` and `Chat` support web search in LLM calls. For `Chat` the web citations are also tracked in the `web_citations` attribute."
   ]
  },
  {
   "cell_type": "code",
   "execution_count": 1,
   "id": "5f199e68",
   "metadata": {},
   "outputs": [],
   "source": [
    "from irouter import Chat\n",
    "\n",
    "# To load OPENROUTER_API_KEY from .env file create a .env file at the root of the project with OPENROUTER_API_KEY=your_api_key\n",
    "# Alternatively pass api_key=your_api_key to the Call or Chat class\n",
    "from dotenv import load_dotenv\n",
    "\n",
    "load_dotenv();"
   ]
  },
  {
   "cell_type": "markdown",
   "id": "ce284b27",
   "metadata": {},
   "source": [
    "## Option 1: Tag `:online` to model slug\n",
    "\n",
    "The simplest way to enable web search is to tag the model slug with `:online`. The web search under the hood is then powered by [Exa](https://exa.ai/)."
   ]
  },
  {
   "cell_type": "code",
   "execution_count": 2,
   "id": "695482bc",
   "metadata": {},
   "outputs": [],
   "source": [
    "c = Chat(\"openai/gpt-4o:online\")"
   ]
  },
  {
   "cell_type": "markdown",
   "id": "495b7434",
   "metadata": {},
   "source": [
    "The current `gpt-4o` model is not aware of the recent GPT5 release so it can only answer the question with web search help. We see that the model is able to find the correct answer."
   ]
  },
  {
   "cell_type": "code",
   "execution_count": 3,
   "id": "3c7bc8ed",
   "metadata": {},
   "outputs": [
    {
     "data": {
      "text/plain": [
       "\"The latest version of OpenAI's Generative Pre-trained Transformer model is GPT-5, which was launched on August 7, 2025. It is described as OpenAI’s “smartest, fastest, most useful model yet” and comes with enhanced features and capabilities compared to earlier versions. The release includes new variants such as GPT-5-mini, GPT-5-nano, GPT-5-pro, and GPT-5-thinking, offering different levels of power and processing capabilities tailored to specific needs. The Pro tier subscription provides users with unlimited access to GPT-5 and its more advanced versions like GPT-5-pro and GPT-5-thinking, which allows for extended query processing. The model also includes enhanced multimodal capabilities and can handle voice, canvas, search, and potentially video processing, making it a significant leap from previous models ([wired.com](https://www.wired.com/story/openais-gpt-5-is-here/), [fortune.com](https://fortune.com/2025/08/07/gpt-5-everything-new-different-hallucinations-personalities-vibecoding-agents-openai/), [linkedin.com](https://www.linkedin.com/pulse/gpt-5-ai-revolution-thats-change-everything-again-gabriel-varaljay-nqdre)).\""
      ]
     },
     "execution_count": 3,
     "metadata": {},
     "output_type": "execute_result"
    }
   ],
   "source": [
    "c(\"Please search on the web for the latest version of OpenAI's GPT. What is it?\")"
   ]
  },
  {
   "cell_type": "markdown",
   "id": "b72339d7",
   "metadata": {},
   "source": [
    "Web citations are tracked in the `web_citations` attribute as a list of dictionaries containing `title`, `url`, and `content` of each citation."
   ]
  },
  {
   "cell_type": "code",
   "execution_count": 4,
   "id": "4b24eaf4",
   "metadata": {},
   "outputs": [
    {
     "data": {
      "text/plain": [
       "[{'title': \"OpenAI Finally Launched GPT-5. Here's Everything You ...\",\n",
       "  'url': 'https://www.wired.com/story/openais-gpt-5-is-here/',\n",
       "  'content': 'As part of Thursday’s launch, OpenAI announced two new model variants: a lightweight GPT-5-mini and an even faster, cheaper, GPT-5-nano (which is only in the API). According to OpenAI, free users will get access to GPT-5 and GPT-5-mini, while the Plus subscription includes the same models with “significantly higher” usage limits. OpenAI says that the $200 a month Pro tier offers unlimited GPT-5 access, along with GPT-5-pro, a more powerful version of the model, and GPT-5-thinking, which allows the model to process a query for longer than usual. Pro users will still have access to pick through legacy models. Most users will no longer need to choose between models, as the chat interface now automatically routes to the right version depending on the complexity of the query and the user’s subscription tier.'},\n",
       " {'title': \"Here's everything in GPT-5 that's new and different from ...\",\n",
       "  'url': 'https://fortune.com/2025/08/07/gpt-5-everything-new-different-hallucinations-personalities-vibecoding-agents-openai/',\n",
       "  'content': ' - [Newsletters](https://fortune.com/newsletters/) OpenAI has released its new [LLM model, GPT-5](https://fortune.com/2025/08/07/openai-launches-gpt-5-most-powerful-ai-model-llm-sam-altman-stargate/). The generative AI model—which will be available to consumers for free and will power the latest version of the popular ChatGPT bot—is OpenAI’s “smartest, fastest, most useful model yet, with built-in thinking that puts expert-level intelligence in everyone’s hands,” [the company noted on Thursday](https://openai.com/index/introducing-gpt-5/). If you’re wondering what all the hoopla is about, and what makes GPT-5 better than, or different from, the company’s previous GPT models (or rival AI models like Claude, Gemini, or Llama), here’s a quick rundown of some of the most important new features and functions available in GPT-5: Recent versions of OpenAI products have forced users to choose the type of model they wanted to use for different tasks: OpenAI’s o family of “reasoning” models for complicated research, or the standard GPT for speedy results.'}]"
      ]
     },
     "execution_count": 4,
     "metadata": {},
     "output_type": "execute_result"
    }
   ],
   "source": [
    "c.web_citations[:2]"
   ]
  },
  {
   "cell_type": "code",
   "execution_count": 5,
   "id": "1f1a905c",
   "metadata": {},
   "outputs": [
    {
     "data": {
      "text/plain": [
       "['https://www.wired.com/story/openais-gpt-5-is-here/',\n",
       " 'https://fortune.com/2025/08/07/gpt-5-everything-new-different-hallucinations-personalities-vibecoding-agents-openai/',\n",
       " 'https://www.zdnet.com/article/openai-could-launch-gpt-5-any-minute-now-what-to-expect/',\n",
       " 'https://www.linkedin.com/pulse/gpt-5-ai-revolution-thats-change-everything-again-gabriel-varaljay-nqdre',\n",
       " 'https://arxiv.org/html/2303.08774v6']"
      ]
     },
     "execution_count": 5,
     "metadata": {},
     "output_type": "execute_result"
    }
   ],
   "source": [
    "[i[\"url\"] for i in c.web_citations]"
   ]
  },
  {
   "cell_type": "markdown",
   "id": "d5eb3a44",
   "metadata": {},
   "source": [
    "## Option 2: Configure the Web plugin\n",
    "\n",
    "For more control over the web search configuration, define the `web` plugin in the `extra_body` argument of a `Call` or `Chat` call."
   ]
  },
  {
   "cell_type": "code",
   "execution_count": 6,
   "id": "9d0cef59",
   "metadata": {},
   "outputs": [],
   "source": [
    "c = Chat(\"openai/gpt-4o\")"
   ]
  },
  {
   "cell_type": "markdown",
   "id": "5530bc64",
   "metadata": {},
   "source": [
    "In this example we use web search to return 10 web search results with a custom search prompt. The results are added to the context of the `openai/gpt-4o` call."
   ]
  },
  {
   "cell_type": "code",
   "execution_count": 7,
   "id": "7a4ea8e0",
   "metadata": {},
   "outputs": [],
   "source": [
    "extra_body = {\n",
    "    \"plugins\": [\n",
    "        {\n",
    "            \"id\": \"web\",\n",
    "            \"max_results\": 10,\n",
    "            \"search_prompt\": \"Give me only the most trustworthy results. No Reddit, Linkedin or shoddy news sites.\",\n",
    "        }\n",
    "    ]\n",
    "}"
   ]
  },
  {
   "cell_type": "code",
   "execution_count": 8,
   "id": "59e43be1",
   "metadata": {},
   "outputs": [
    {
     "data": {
      "text/plain": [
       "\"Based on the most recent trusted sources provided, the latest released version of OpenAI's GPT is GPT-5. The information suggests it was either recently released or planned for a launch in early August 2025.\""
      ]
     },
     "execution_count": 8,
     "metadata": {},
     "output_type": "execute_result"
    }
   ],
   "source": [
    "c(\n",
    "    \"Check the latest news sources I'm giving you. What is the most recent released version of OpenAI's GPT?\",\n",
    "    extra_body=extra_body,\n",
    ")"
   ]
  },
  {
   "cell_type": "code",
   "execution_count": 9,
   "id": "cea2ab34",
   "metadata": {},
   "outputs": [
    {
     "data": {
      "text/plain": [
       "[{'title': 'OpenAI ChatGPT-5 launch live updates — all the latest news and biggest upgrades',\n",
       "  'url': 'https://www.tomsguide.com/news/live/openai-chatgpt-5-live-blog',\n",
       "  'content': '[OpenAI logo with ChatGPT on phone](https://cdn.mos.cms.futurecdn.net/k7i24zs2yAFtzzLsiDuGsL-840-80.jpg)](https://www.tomsguide.com/ai/gpt-5-could-be-here-this-month-heres-five-features-were-hoping-to-see) Rather than switching between models, GPT-5 introduces a unified system that automatically gives you the best version of ChatGPT, no matter your prompt. It’s faster, more accurate, and significantly better at real-world tasks like writing, coding, and even health-related queries. - Safe completions for clearer, more helpful replies - Chat color customization (exclusive options for paid users)'},\n",
       " {'title': \"OpenAI unveils GPT‑5. Here's what to know about the latest version ...\",\n",
       "  'url': 'https://www.cbsnews.com/news/openai-launches-chatgpt5-sam-altman-smartest-ai-chatbot/',\n",
       "  'content': '- Free - access to GPT-5 & GPT-5 mini. Users will transition to GPT‑5 [mini](https://openai.com/index/introducing-gpt-5/), a \"smaller, faster, and highly capable model,\" when they reach their GPT‑5 usage limits [! [Illustration OpenAI GPT-5 ](https://assets2.cbsnewsstatic.com/hub/i/r/2025/08/07/f7cae47a-ff48-4a49-b274-1cb116ec0c05/thumbnail/120x120/d2bd36bddb6259c4b8e74eef1a45ca1e/gettyimages-2228175356.jpg)](https://www.cbsnews.com/news/openai-launches-chatgpt5-sam-altman-smartest-ai-chatbot/?intcid=CNI-00-10aaa3a) [!'}]"
      ]
     },
     "execution_count": 9,
     "metadata": {},
     "output_type": "execute_result"
    }
   ],
   "source": [
    "c.web_citations[:2]"
   ]
  },
  {
   "cell_type": "code",
   "execution_count": 10,
   "id": "c93a2ca7",
   "metadata": {},
   "outputs": [
    {
     "data": {
      "text/plain": [
       "['https://www.tomsguide.com/news/live/openai-chatgpt-5-live-blog',\n",
       " 'https://www.cbsnews.com/news/openai-launches-chatgpt5-sam-altman-smartest-ai-chatbot/',\n",
       " 'https://www.windowscentral.com/artificial-intelligence/i-asked-openais-new-open-source-llm-to-complete-a-test-designed-for-children-is-it-smarter-than-a-10-year-old',\n",
       " 'https://interestingengineering.com/innovation/openai-nvidia-open-weight-ai-models',\n",
       " 'https://www.geeky-gadgets.com/chatgpt-5-release-date-and-rumors-august-2025/',\n",
       " 'https://mashable.com/article/openai-releases-two-open-weight-gpt-models?test_uuid=003aGE6xTMbhuvdzpnH5X4Q&test_variant=b',\n",
       " 'https://www.thehansindia.com/technology/tech-news/openai-set-to-launch-gpt-5-a-faster-smarter-and-more-capable-ai-model-994191',\n",
       " 'https://www.techrepublic.com/article/news-openai-gpt-5-release-rumors/',\n",
       " 'https://www.axios.com/2025/07/24/openai-gpt-5-august-2025',\n",
       " 'https://www.straitstimes.com/world/united-states/openai-prepares-to-launch-gpt-5-in-august-the-verge-reports']"
      ]
     },
     "execution_count": 10,
     "metadata": {},
     "output_type": "execute_result"
    }
   ],
   "source": [
    "[i[\"url\"] for i in c.web_citations]"
   ]
  },
  {
   "cell_type": "markdown",
   "id": "f742f76a",
   "metadata": {},
   "source": [
    "For more detailed information about customizing the web search plugin, check the [OpenRouter docs](https://openrouter.ai/docs/features/web-search#customizing-the-web-plugin)."
   ]
  }
 ],
 "metadata": {
  "kernelspec": {
   "display_name": "py312",
   "language": "python",
   "name": "python3"
  },
  "language_info": {
   "codemirror_mode": {
    "name": "ipython",
    "version": 3
   },
   "file_extension": ".py",
   "mimetype": "text/x-python",
   "name": "python",
   "nbconvert_exporter": "python",
   "pygments_lexer": "ipython3",
   "version": "3.12.0"
  }
 },
 "nbformat": 4,
 "nbformat_minor": 5
}
