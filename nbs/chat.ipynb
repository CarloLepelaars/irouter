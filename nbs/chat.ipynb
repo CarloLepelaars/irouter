{
 "cells": [
  {
   "cell_type": "markdown",
   "id": "5439cc4b",
   "metadata": {},
   "source": [
    "# Chat\n",
    "\n",
    "`Chat` is an object for conversational LLM interactions that tracks history and token usage across single or multiple models."
   ]
  },
  {
   "cell_type": "code",
   "execution_count": 1,
   "id": "1585981a",
   "metadata": {},
   "outputs": [
    {
     "data": {
      "text/plain": [
       "True"
      ]
     },
     "execution_count": 1,
     "metadata": {},
     "output_type": "execute_result"
    }
   ],
   "source": [
    "from irouter import Chat\n",
    "\n",
    "# To load OPENROUTER_API_KEY from .env file create a .env file at the root of the project with OPENROUTER_API_KEY=your_api_key\n",
    "# Alternatively pass api_key=your_api_key to the Chat class\n",
    "from dotenv import load_dotenv\n",
    "\n",
    "load_dotenv()"
   ]
  },
  {
   "cell_type": "markdown",
   "id": "39974d87",
   "metadata": {},
   "source": [
    "In this notebook we will use free tiers for Moonshot AI's Kimi K2 and Google's Gemma 3N. \n",
    "\n",
    "An overview of all available models can be found by calling `get_all_models`:\n",
    "```python\n",
    "from irouter.base import get_all_models\n",
    "model_slugs = get_all_models()\n",
    "model_slugs\n",
    "```"
   ]
  },
  {
   "cell_type": "code",
   "execution_count": 2,
   "id": "2d630975",
   "metadata": {},
   "outputs": [],
   "source": [
    "model_names = [\"moonshotai/kimi-k2:free\", \"google/gemma-3n-e2b-it:free\"]\n",
    "\n",
    "# Test conversation messages\n",
    "first_message = \"Who played the guitar solo on Steely Dan's Kid Charlemagne?\"\n",
    "second_message = \"What other songs did this guitarist play on with Steely Dan?\""
   ]
  },
  {
   "cell_type": "markdown",
   "id": "5b0e04c5",
   "metadata": {},
   "source": [
    "# Single Model\n",
    "\n",
    "The simplest way to use `Chat` is with a single LLM by providing a model slug. Unlike `Call`, `Chat` maintains conversation history and tracks token usage."
   ]
  },
  {
   "cell_type": "markdown",
   "id": "8056ef65",
   "metadata": {},
   "source": [
    "In this example we initialize a `Chat` object with the free tier of Moonshot AI's Kimi-K2 LLM.\n",
    "\n",
    "To set the API key you can either set an environment variable for `OPENROUTER_API_KEY` to your project or pass `api_key` when initializing `Chat`."
   ]
  },
  {
   "cell_type": "code",
   "execution_count": 3,
   "id": "5b36549c",
   "metadata": {},
   "outputs": [],
   "source": [
    "c = Chat(model_names[0], system=\"You are the best assistant in the world.\")\n",
    "# or\n",
    "# c = Chat(model_names[0], api_key=\"your_api_key\")"
   ]
  },
  {
   "cell_type": "markdown",
   "id": "251f3599",
   "metadata": {},
   "source": [
    "At the start the `history` will only contain the system message."
   ]
  },
  {
   "cell_type": "code",
   "execution_count": 4,
   "id": "bb62ebad",
   "metadata": {},
   "outputs": [
    {
     "data": {
      "text/plain": [
       "[{'role': 'system', 'content': 'You are the best assistant in the world.'}]"
      ]
     },
     "execution_count": 4,
     "metadata": {},
     "output_type": "execute_result"
    }
   ],
   "source": [
    "c.history"
   ]
  },
  {
   "cell_type": "markdown",
   "id": "5fabbfe7",
   "metadata": {},
   "source": [
    "`Chat` will also tracks the token usage."
   ]
  },
  {
   "cell_type": "code",
   "execution_count": 5,
   "id": "f6afe140",
   "metadata": {},
   "outputs": [
    {
     "data": {
      "text/plain": [
       "{'prompt_tokens': 0, 'completion_tokens': 0, 'total_tokens': 0}"
      ]
     },
     "execution_count": 5,
     "metadata": {},
     "output_type": "execute_result"
    }
   ],
   "source": [
    "c.usage"
   ]
  },
  {
   "cell_type": "code",
   "execution_count": 6,
   "id": "6d1e0753",
   "metadata": {},
   "outputs": [
    {
     "data": {
      "text/plain": [
       "\"Hello! I'm Kimi, your intelligent assistant and good friend. I'm here to help you with any questions or tasks you have. How can I assist you today?\""
      ]
     },
     "execution_count": 6,
     "metadata": {},
     "output_type": "execute_result"
    }
   ],
   "source": [
    "c(\"Hello who are you?\")"
   ]
  },
  {
   "cell_type": "code",
   "execution_count": 7,
   "id": "ca1e2ef7",
   "metadata": {},
   "outputs": [
    {
     "data": {
      "text/plain": [
       "[{'role': 'system', 'content': 'You are the best assistant in the world.'},\n",
       " {'role': 'user', 'content': 'Hello who are you?'},\n",
       " {'role': 'assistant',\n",
       "  'content': \"Hello! I'm Kimi, your intelligent assistant and good friend. I'm here to help you with any questions or tasks you have. How can I assist you today?\"}]"
      ]
     },
     "execution_count": 7,
     "metadata": {},
     "output_type": "execute_result"
    }
   ],
   "source": [
    "c.history"
   ]
  },
  {
   "cell_type": "code",
   "execution_count": 8,
   "id": "eee416d5",
   "metadata": {},
   "outputs": [
    {
     "data": {
      "text/plain": [
       "{'prompt_tokens': 25, 'completion_tokens': 34, 'total_tokens': 59}"
      ]
     },
     "execution_count": 8,
     "metadata": {},
     "output_type": "execute_result"
    }
   ],
   "source": [
    "c.usage"
   ]
  }
 ],
 "metadata": {
  "kernelspec": {
   "display_name": "py312",
   "language": "python",
   "name": "python3"
  },
  "language_info": {
   "codemirror_mode": {
    "name": "ipython",
    "version": 3
   },
   "file_extension": ".py",
   "mimetype": "text/x-python",
   "name": "python",
   "nbconvert_exporter": "python",
   "pygments_lexer": "ipython3",
   "version": "3.12.0"
  }
 },
 "nbformat": 4,
 "nbformat_minor": 5
}
