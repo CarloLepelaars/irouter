{
 "cells": [
  {
   "cell_type": "markdown",
   "id": "5439cc4b",
   "metadata": {},
   "source": [
    "# Chat\n",
    "\n",
    "`Chat` is an object for conversational LLM interactions that tracks history and token usage across single or multiple models."
   ]
  },
  {
   "cell_type": "code",
   "execution_count": null,
   "id": "1585981a",
   "metadata": {},
   "outputs": [
    {
     "data": {
      "text/plain": [
       "True"
      ]
     },
     "execution_count": 1,
     "metadata": {},
     "output_type": "execute_result"
    }
   ],
   "source": [
    "from irouter import Chat\n",
    "\n",
    "# To load OPENROUTER_API_KEY from .env file create a .env file at the root of the project with OPENROUTER_API_KEY=your_api_key\n",
    "# Alternatively pass api_key=your_api_key to the Chat class\n",
    "from dotenv import load_dotenv\n",
    "load_dotenv();"
   ]
  },
  {
   "cell_type": "markdown",
   "id": "39974d87",
   "metadata": {},
   "source": [
    "In this notebook we will use free tiers for Moonshot AI's Kimi K2 and Google's Gemma 3N. \n",
    "\n",
    "An overview of all available models can be discovered with `get_all_models`:\n",
    "```python\n",
    "from irouter.base import get_all_models\n",
    "model_slugs = get_all_models()\n",
    "model_slugs\n",
    "```\n",
    "\n",
    "You can also browse available models at [openrouter.ai/models](https://openrouter.ai/models)."
   ]
  },
  {
   "cell_type": "code",
   "execution_count": 2,
   "id": "2d630975",
   "metadata": {},
   "outputs": [],
   "source": [
    "model_names = [\"moonshotai/kimi-k2:free\", \"z-ai/glm-4.5-air:free\"]"
   ]
  },
  {
   "cell_type": "markdown",
   "id": "5b0e04c5",
   "metadata": {},
   "source": [
    "# Single Model\n",
    "\n",
    "The simplest way to use `Chat` is with a single LLM by providing a model slug. Unlike `Call`, `Chat` maintains conversation history and tracks token usage."
   ]
  },
  {
   "cell_type": "markdown",
   "id": "8056ef65",
   "metadata": {},
   "source": [
    "In this example we initialize a `Chat` object with the free tier of Moonshot AI's Kimi-K2 LLM.\n",
    "\n",
    "To set the API key you can either set an environment variable for `OPENROUTER_API_KEY` to your project or pass `api_key` when initializing `Chat`."
   ]
  },
  {
   "cell_type": "code",
   "execution_count": 3,
   "id": "5b36549c",
   "metadata": {},
   "outputs": [],
   "source": [
    "c = Chat(model_names[0], system=\"You are the best assistant in the world.\")\n",
    "# or\n",
    "# c = Chat(model_names[0], api_key=\"your_api_key\")"
   ]
  },
  {
   "cell_type": "markdown",
   "id": "251f3599",
   "metadata": {},
   "source": [
    "At the start the `history` will only contain the system message."
   ]
  },
  {
   "cell_type": "code",
   "execution_count": 4,
   "id": "bb62ebad",
   "metadata": {},
   "outputs": [
    {
     "data": {
      "text/plain": [
       "[{'role': 'system', 'content': 'You are the best assistant in the world.'}]"
      ]
     },
     "execution_count": 4,
     "metadata": {},
     "output_type": "execute_result"
    }
   ],
   "source": [
    "c.history"
   ]
  },
  {
   "cell_type": "markdown",
   "id": "5fabbfe7",
   "metadata": {},
   "source": [
    "`Chat` will also tracks the token usage."
   ]
  },
  {
   "cell_type": "code",
   "execution_count": 5,
   "id": "f6afe140",
   "metadata": {},
   "outputs": [
    {
     "data": {
      "text/plain": [
       "{'prompt_tokens': 0, 'completion_tokens': 0, 'total_tokens': 0}"
      ]
     },
     "execution_count": 5,
     "metadata": {},
     "output_type": "execute_result"
    }
   ],
   "source": [
    "c.usage"
   ]
  },
  {
   "cell_type": "code",
   "execution_count": 6,
   "id": "6d1e0753",
   "metadata": {},
   "outputs": [
    {
     "data": {
      "text/plain": [
       "'I was created by Moonshot AI.'"
      ]
     },
     "execution_count": 6,
     "metadata": {},
     "output_type": "execute_result"
    }
   ],
   "source": [
    "c(\"Who created you?\")"
   ]
  },
  {
   "cell_type": "markdown",
   "id": "7ef5062e",
   "metadata": {},
   "source": [
    "After each call the `history` and `usage` is updated."
   ]
  },
  {
   "cell_type": "code",
   "execution_count": 7,
   "id": "ca1e2ef7",
   "metadata": {},
   "outputs": [
    {
     "data": {
      "text/plain": [
       "[{'role': 'system', 'content': 'You are the best assistant in the world.'},\n",
       " {'role': 'user', 'content': 'Who created you?'},\n",
       " {'role': 'assistant', 'content': 'I was created by Moonshot AI.'}]"
      ]
     },
     "execution_count": 7,
     "metadata": {},
     "output_type": "execute_result"
    }
   ],
   "source": [
    "c.history"
   ]
  },
  {
   "cell_type": "code",
   "execution_count": 8,
   "id": "eee416d5",
   "metadata": {},
   "outputs": [
    {
     "data": {
      "text/plain": [
       "{'prompt_tokens': 24, 'completion_tokens': 9, 'total_tokens': 33}"
      ]
     },
     "execution_count": 8,
     "metadata": {},
     "output_type": "execute_result"
    }
   ],
   "source": [
    "c.usage"
   ]
  },
  {
   "cell_type": "markdown",
   "id": "bb5bbbcd",
   "metadata": {},
   "source": [
    "# Multiple LLMs"
   ]
  },
  {
   "cell_type": "code",
   "execution_count": 9,
   "id": "22d152e1",
   "metadata": {},
   "outputs": [],
   "source": [
    "c = Chat(model_names, system=\"You are the best assistant in the world.\")"
   ]
  },
  {
   "cell_type": "markdown",
   "id": "8c18e7a8",
   "metadata": {},
   "source": [
    "If multiple LLMs are used, we define the `history` and `usage` as a dictionary mapping from the LLM slug."
   ]
  },
  {
   "cell_type": "code",
   "execution_count": 10,
   "id": "7bde4b22",
   "metadata": {},
   "outputs": [
    {
     "data": {
      "text/plain": [
       "{'moonshotai/kimi-k2:free': [{'role': 'system',\n",
       "   'content': 'You are the best assistant in the world.'}],\n",
       " 'z-ai/glm-4.5-air:free': [{'role': 'system',\n",
       "   'content': 'You are the best assistant in the world.'}]}"
      ]
     },
     "execution_count": 10,
     "metadata": {},
     "output_type": "execute_result"
    }
   ],
   "source": [
    "c.history"
   ]
  },
  {
   "cell_type": "code",
   "execution_count": 11,
   "id": "3389abb1",
   "metadata": {},
   "outputs": [
    {
     "data": {
      "text/plain": [
       "{'moonshotai/kimi-k2:free': {'prompt_tokens': 0,\n",
       "  'completion_tokens': 0,\n",
       "  'total_tokens': 0},\n",
       " 'z-ai/glm-4.5-air:free': {'prompt_tokens': 0,\n",
       "  'completion_tokens': 0,\n",
       "  'total_tokens': 0}}"
      ]
     },
     "execution_count": 11,
     "metadata": {},
     "output_type": "execute_result"
    }
   ],
   "source": [
    "c.usage"
   ]
  },
  {
   "cell_type": "code",
   "execution_count": 12,
   "id": "210a3bff",
   "metadata": {},
   "outputs": [
    {
     "data": {
      "text/plain": [
       "{'moonshotai/kimi-k2:free': 'I was created by Moonshot AI.',\n",
       " 'z-ai/glm-4.5-air:free': \"\\nI'm GLM, a large language model created and trained by Zhipu AI. I'm designed to be helpful, informative, and engaging in conversations while respecting privacy and safety guidelines.\\n\\nIs there something specific about my capabilities or origins you'd like to know more about?\"}"
      ]
     },
     "execution_count": 12,
     "metadata": {},
     "output_type": "execute_result"
    }
   ],
   "source": [
    "c(\"Who created you?\")"
   ]
  },
  {
   "cell_type": "markdown",
   "id": "e1df1796",
   "metadata": {},
   "source": [
    "irouter's `Chat` will keep separate track of each model's history and usage. In this way you can have multi-turn conversations with multiple models at the same time and can analyze where each model ends up."
   ]
  },
  {
   "cell_type": "code",
   "execution_count": 13,
   "id": "93fddffd",
   "metadata": {},
   "outputs": [
    {
     "data": {
      "text/plain": [
       "{'moonshotai/kimi-k2:free': [{'role': 'system',\n",
       "   'content': 'You are the best assistant in the world.'},\n",
       "  {'role': 'user', 'content': 'Who created you?'},\n",
       "  {'role': 'assistant', 'content': 'I was created by Moonshot AI.'}],\n",
       " 'z-ai/glm-4.5-air:free': [{'role': 'system',\n",
       "   'content': 'You are the best assistant in the world.'},\n",
       "  {'role': 'user', 'content': 'Who created you?'},\n",
       "  {'role': 'assistant',\n",
       "   'content': \"\\nI'm GLM, a large language model created and trained by Zhipu AI. I'm designed to be helpful, informative, and engaging in conversations while respecting privacy and safety guidelines.\\n\\nIs there something specific about my capabilities or origins you'd like to know more about?\"}]}"
      ]
     },
     "execution_count": 13,
     "metadata": {},
     "output_type": "execute_result"
    }
   ],
   "source": [
    "c.history"
   ]
  },
  {
   "cell_type": "code",
   "execution_count": 14,
   "id": "85687f35",
   "metadata": {},
   "outputs": [
    {
     "data": {
      "text/plain": [
       "[{'role': 'system', 'content': 'You are the best assistant in the world.'},\n",
       " {'role': 'user', 'content': 'Who created you?'},\n",
       " {'role': 'assistant', 'content': 'I was created by Moonshot AI.'}]"
      ]
     },
     "execution_count": 14,
     "metadata": {},
     "output_type": "execute_result"
    }
   ],
   "source": [
    "c.history[\"moonshotai/kimi-k2:free\"]"
   ]
  },
  {
   "cell_type": "markdown",
   "id": "49599a49",
   "metadata": {},
   "source": [
    "For this particular query, Z.ai's GLM 4.5 Air used more tokens compared to Moonshot AI's Kimi K2. "
   ]
  },
  {
   "cell_type": "code",
   "execution_count": 15,
   "id": "5bb5e586",
   "metadata": {},
   "outputs": [
    {
     "data": {
      "text/plain": [
       "{'moonshotai/kimi-k2:free': {'prompt_tokens': 24,\n",
       "  'completion_tokens': 9,\n",
       "  'total_tokens': 33},\n",
       " 'z-ai/glm-4.5-air:free': {'prompt_tokens': 20,\n",
       "  'completion_tokens': 155,\n",
       "  'total_tokens': 175}}"
      ]
     },
     "execution_count": 15,
     "metadata": {},
     "output_type": "execute_result"
    }
   ],
   "source": [
    "c.usage"
   ]
  },
  {
   "cell_type": "code",
   "execution_count": 16,
   "id": "e8a06b6b",
   "metadata": {},
   "outputs": [
    {
     "data": {
      "text/plain": [
       "{'prompt_tokens': 24, 'completion_tokens': 9, 'total_tokens': 33}"
      ]
     },
     "execution_count": 16,
     "metadata": {},
     "output_type": "execute_result"
    }
   ],
   "source": [
    "c.usage[\"moonshotai/kimi-k2:free\"]"
   ]
  },
  {
   "cell_type": "markdown",
   "id": "4edab66b",
   "metadata": {},
   "source": [
    "# Resetting history and usage\n",
    "\n",
    "History can be reset by calling `reset_history`. The `Chat` object history will revert to the system prompt."
   ]
  },
  {
   "cell_type": "code",
   "execution_count": 17,
   "id": "2f9c7fbb",
   "metadata": {},
   "outputs": [
    {
     "data": {
      "text/plain": [
       "{'moonshotai/kimi-k2:free': [{'role': 'system',\n",
       "   'content': 'You are the best assistant in the world.'},\n",
       "  {'role': 'user', 'content': 'Who created you?'},\n",
       "  {'role': 'assistant', 'content': 'I was created by Moonshot AI.'}],\n",
       " 'z-ai/glm-4.5-air:free': [{'role': 'system',\n",
       "   'content': 'You are the best assistant in the world.'},\n",
       "  {'role': 'user', 'content': 'Who created you?'},\n",
       "  {'role': 'assistant',\n",
       "   'content': \"\\nI'm GLM, a large language model created and trained by Zhipu AI. I'm designed to be helpful, informative, and engaging in conversations while respecting privacy and safety guidelines.\\n\\nIs there something specific about my capabilities or origins you'd like to know more about?\"}]}"
      ]
     },
     "execution_count": 17,
     "metadata": {},
     "output_type": "execute_result"
    }
   ],
   "source": [
    "c.history"
   ]
  },
  {
   "cell_type": "code",
   "execution_count": 18,
   "id": "d853d227",
   "metadata": {},
   "outputs": [],
   "source": [
    "c.reset_history()"
   ]
  },
  {
   "cell_type": "code",
   "execution_count": 19,
   "id": "91a16541",
   "metadata": {},
   "outputs": [
    {
     "data": {
      "text/plain": [
       "{'moonshotai/kimi-k2:free': [{'role': 'system',\n",
       "   'content': 'You are the best assistant in the world.'}],\n",
       " 'z-ai/glm-4.5-air:free': [{'role': 'system',\n",
       "   'content': 'You are the best assistant in the world.'}]}"
      ]
     },
     "execution_count": 19,
     "metadata": {},
     "output_type": "execute_result"
    }
   ],
   "source": [
    "c.history"
   ]
  },
  {
   "cell_type": "markdown",
   "id": "b826d3d7",
   "metadata": {},
   "source": [
    "Usage can be reset with `reset_usage`."
   ]
  },
  {
   "cell_type": "code",
   "execution_count": 20,
   "id": "684c08dc",
   "metadata": {},
   "outputs": [
    {
     "data": {
      "text/plain": [
       "{'moonshotai/kimi-k2:free': {'prompt_tokens': 24,\n",
       "  'completion_tokens': 9,\n",
       "  'total_tokens': 33},\n",
       " 'z-ai/glm-4.5-air:free': {'prompt_tokens': 20,\n",
       "  'completion_tokens': 155,\n",
       "  'total_tokens': 175}}"
      ]
     },
     "execution_count": 20,
     "metadata": {},
     "output_type": "execute_result"
    }
   ],
   "source": [
    "c.usage"
   ]
  },
  {
   "cell_type": "code",
   "execution_count": 21,
   "id": "c19b3163",
   "metadata": {},
   "outputs": [],
   "source": [
    "c.reset_usage()"
   ]
  },
  {
   "cell_type": "code",
   "execution_count": 22,
   "id": "c875b0fe",
   "metadata": {},
   "outputs": [
    {
     "data": {
      "text/plain": [
       "{'moonshotai/kimi-k2:free': {'prompt_tokens': 0,\n",
       "  'completion_tokens': 0,\n",
       "  'total_tokens': 0},\n",
       " 'z-ai/glm-4.5-air:free': {'prompt_tokens': 0,\n",
       "  'completion_tokens': 0,\n",
       "  'total_tokens': 0}}"
      ]
     },
     "execution_count": 22,
     "metadata": {},
     "output_type": "execute_result"
    }
   ],
   "source": [
    "c.usage"
   ]
  },
  {
   "cell_type": "markdown",
   "id": "b82748eb",
   "metadata": {},
   "source": [
    "I hope this gives you a good overview of the basic usage of `Chat`. Check `img.ipynb`, `pdf.ipynb` and `audio.ipynb` for examples on using `Chat` with other modalities."
   ]
  },
  {
   "cell_type": "markdown",
   "id": "29754f42",
   "metadata": {},
   "source": []
  }
 ],
 "metadata": {
  "kernelspec": {
   "display_name": "py312",
   "language": "python",
   "name": "python3"
  },
  "language_info": {
   "codemirror_mode": {
    "name": "ipython",
    "version": 3
   },
   "file_extension": ".py",
   "mimetype": "text/x-python",
   "name": "python",
   "nbconvert_exporter": "python",
   "pygments_lexer": "ipython3",
   "version": "3.12.0"
  }
 },
 "nbformat": 4,
 "nbformat_minor": 5
}
