{
 "cells": [
  {
   "cell_type": "markdown",
   "metadata": {},
   "source": [
    "# Image Support\n",
    "\n",
    "This notebook demonstrates image input support for both `Call` and `Chat` objects. Images can be provided as URLs or local file paths."
   ]
  },
  {
   "cell_type": "code",
   "execution_count": 1,
   "metadata": {},
   "outputs": [
    {
     "data": {
      "text/plain": [
       "True"
      ]
     },
     "execution_count": 1,
     "metadata": {},
     "output_type": "execute_result"
    }
   ],
   "source": [
    "from IPython.display import Image, display\n",
    "from irouter import Call, Chat\n",
    "from irouter.base import nb_markdown\n",
    "\n",
    "# To load OPENROUTER_API_KEY from .env file create a .env file at the root of the project with OPENROUTER_API_KEY=your_api_key\n",
    "# Alternatively pass api_key=your_api_key to the Call or Chat class\n",
    "from dotenv import load_dotenv\n",
    "\n",
    "load_dotenv()"
   ]
  },
  {
   "cell_type": "markdown",
   "metadata": {},
   "source": [
    "Make sure to use an LLM that supports image processing, like `gpt-4o-mini`."
   ]
  },
  {
   "cell_type": "code",
   "execution_count": 2,
   "metadata": {},
   "outputs": [
    {
     "data": {
      "text/html": [
       "<img src=\"https://www.petlandflorida.com/wp-content/uploads/2022/04/shutterstock_1290320698-1-scaled.jpg\" width=\"300\"/>"
      ],
      "text/plain": [
       "<IPython.core.display.Image object>"
      ]
     },
     "metadata": {},
     "output_type": "display_data"
    }
   ],
   "source": [
    "image_url = \"https://www.petlandflorida.com/wp-content/uploads/2022/04/shutterstock_1290320698-1-scaled.jpg\"\n",
    "display(Image(url=image_url, width=300))"
   ]
  },
  {
   "cell_type": "markdown",
   "metadata": {},
   "source": [
    "# Image URL\n",
    "\n",
    "`irouter` can work directly with image URLs."
   ]
  },
  {
   "cell_type": "code",
   "execution_count": 3,
   "metadata": {},
   "outputs": [
    {
     "data": {
      "text/plain": [
       "\"The image features an adorable puppy with a light brown and white coat, reminiscent of a Corgi breed. The puppy is sitting with a curious expression against a softly blurred green background. Its ears are perked up, and it's positioned upright on a surface that appears to be blue.\""
      ]
     },
     "execution_count": 3,
     "metadata": {},
     "output_type": "execute_result"
    }
   ],
   "source": [
    "c = Call(\"gpt-4o-mini\", system=\"You analyze images.\")\n",
    "c([image_url, \"What is in the image?\"])"
   ]
  },
  {
   "cell_type": "markdown",
   "metadata": {},
   "source": [
    "# Local Image\n",
    "\n",
    "Local images can be passed as a path to the `Call` or `Chat` object."
   ]
  },
  {
   "cell_type": "code",
   "execution_count": 4,
   "metadata": {},
   "outputs": [
    {
     "data": {
      "text/plain": [
       "'The image shows a cute corgi puppy with a fluffy coat, sitting on a surface with a blurred green background. The puppy has large, expressive eyes and one ear folded down, giving it an adorable appearance.'"
      ]
     },
     "execution_count": 4,
     "metadata": {},
     "output_type": "execute_result"
    }
   ],
   "source": [
    "c([\"../assets/puppy.jpg\", \"What is in the image?\"])"
   ]
  },
  {
   "cell_type": "markdown",
   "metadata": {},
   "source": [
    "# Chat"
   ]
  },
  {
   "cell_type": "code",
   "execution_count": 5,
   "metadata": {},
   "outputs": [],
   "source": [
    "chat = Chat(\"gpt-4o-mini\", system=\"You analyze images.\")"
   ]
  },
  {
   "cell_type": "code",
   "execution_count": 6,
   "metadata": {},
   "outputs": [
    {
     "data": {
      "text/plain": [
       "'The image shows an adorable puppy, likely a Corgi. The puppy has a fluffy, tan and white coat, with large expressive eyes and one ear slightly raised. It appears to be sitting on a small surface, with a blurred green background that suggests an outdoor setting.'"
      ]
     },
     "execution_count": 6,
     "metadata": {},
     "output_type": "execute_result"
    }
   ],
   "source": [
    "chat([image_url, \"What is in the image?\"])"
   ]
  },
  {
   "cell_type": "markdown",
   "metadata": {},
   "source": [
    "The conversation history now includes the image and response."
   ]
  },
  {
   "cell_type": "code",
   "execution_count": 8,
   "metadata": {},
   "outputs": [
    {
     "data": {
      "text/plain": [
       "[{'role': 'system', 'content': 'You analyze images.'},\n",
       " {'role': 'user',\n",
       "  'content': [{'type': 'image_url',\n",
       "    'image_url': {'url': 'https://www.petlandflorida.com/wp-content/uploads/2022/04/shutterstock_1290320698-1-scaled.jpg'}},\n",
       "   {'type': 'text', 'text': 'What is in the image?'}]},\n",
       " {'role': 'assistant',\n",
       "  'content': 'The image shows an adorable puppy, likely a Corgi. The puppy has a fluffy, tan and white coat, with large expressive eyes and one ear slightly raised. It appears to be sitting on a small surface, with a blurred green background that suggests an outdoor setting.'}]"
      ]
     },
     "execution_count": 8,
     "metadata": {},
     "output_type": "execute_result"
    }
   ],
   "source": [
    "chat.history"
   ]
  }
 ],
 "metadata": {
  "kernelspec": {
   "display_name": "py312",
   "language": "python",
   "name": "python3"
  },
  "language_info": {
   "codemirror_mode": {
    "name": "ipython",
    "version": 3
   },
   "file_extension": ".py",
   "mimetype": "text/x-python",
   "name": "python",
   "nbconvert_exporter": "python",
   "pygments_lexer": "ipython3",
   "version": "3.12.0"
  }
 },
 "nbformat": 4,
 "nbformat_minor": 2
}
