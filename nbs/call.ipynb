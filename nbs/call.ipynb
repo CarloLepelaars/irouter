{
 "cells": [
  {
   "cell_type": "markdown",
   "id": "5439cc4b",
   "metadata": {},
   "source": [
    "# Call\n",
    "\n",
    "`Call` is a simple object for one-off calls to LLMs. It does not track history or token usage."
   ]
  },
  {
   "cell_type": "code",
   "execution_count": null,
   "id": "1585981a",
   "metadata": {},
   "outputs": [
    {
     "data": {
      "text/plain": [
       "True"
      ]
     },
     "execution_count": 1,
     "metadata": {},
     "output_type": "execute_result"
    }
   ],
   "source": [
    "from irouter import Call\n",
    "from irouter.base import nb_markdown\n",
    "\n",
    "# Load OPENROUTER_API_KEY from .env file\n",
    "from dotenv import load_dotenv\n",
    "load_dotenv()"
   ]
  },
  {
   "cell_type": "markdown",
   "id": "39974d87",
   "metadata": {},
   "source": [
    "In this notebook we will use free tiers for Moonshot AI's Kimi K2 and Google's Gemma 3N. \n",
    "\n",
    "An overview of all available models can be found by calling `get_all_models`:\n",
    "```python\n",
    "from irouter.base import get_all_models\n",
    "model_slugs = get_all_models()\n",
    "model_slugs\n",
    "```"
   ]
  },
  {
   "cell_type": "code",
   "execution_count": 2,
   "id": "2d630975",
   "metadata": {},
   "outputs": [],
   "source": [
    "model_names = [\"moonshotai/kimi-k2:free\", \"google/gemma-3n-e2b-it:free\"]\n",
    "\n",
    "test_message = \"Who played the guitar solo on Steely Dan's Kid Charlemagne?\""
   ]
  },
  {
   "cell_type": "markdown",
   "id": "5b0e04c5",
   "metadata": {},
   "source": [
    "# Single Model\n",
    "\n",
    "The simplest way to use `Call` is use a single LLM by giving a model slug."
   ]
  },
  {
   "cell_type": "markdown",
   "id": "8056ef65",
   "metadata": {},
   "source": [
    "In this example we initialize a `Call` object with the free tier of Moonshot AI's Kimi-K2 LLM.\n",
    "\n",
    "To set the API key you can either set an environment variable for `OPENROUTER_API_KEY` to your project or pass `api_key` when initializing `Call`."
   ]
  },
  {
   "cell_type": "code",
   "execution_count": 3,
   "id": "5b36549c",
   "metadata": {},
   "outputs": [],
   "source": [
    "c = Call(model_names[0])"
   ]
  },
  {
   "cell_type": "code",
   "execution_count": 4,
   "id": "d5470f9f",
   "metadata": {},
   "outputs": [
    {
     "data": {
      "text/markdown": [
       "The guitar solo on Steely Dan's \"Kid Charlemagne\" was played by **Larry Carlton**."
      ],
      "text/plain": [
       "<IPython.core.display.Markdown object>"
      ]
     },
     "metadata": {},
     "output_type": "display_data"
    }
   ],
   "source": [
    "nb_markdown(c(test_message))"
   ]
  },
  {
   "cell_type": "markdown",
   "id": "c1fdb618",
   "metadata": {},
   "source": [
    "If needed you can get the raw `ChatCompletion` object from a call by setting `raw=True`."
   ]
  },
  {
   "cell_type": "code",
   "execution_count": 5,
   "id": "24c0c707",
   "metadata": {},
   "outputs": [
    {
     "data": {
      "text/plain": [
       "ChatCompletion(id='gen-1754044838-tBZMV2CWkYrCw8K4gM2y', choices=[Choice(finish_reason='stop', index=0, logprobs=None, message=ChatCompletionMessage(content='The guitar solo on Steely Dan\\'s *\"Kid Charlemagne\"* was played by **Larry Carlton**.', refusal=None, role='assistant', annotations=None, audio=None, function_call=None, tool_calls=None, reasoning=None), native_finish_reason='stop')], created=1754044838, model='moonshotai/kimi-k2:free', object='chat.completion', service_tier=None, system_fingerprint=None, usage=CompletionUsage(completion_tokens=23, prompt_tokens=26, total_tokens=49, completion_tokens_details=None, prompt_tokens_details=None), provider='Parasail')"
      ]
     },
     "execution_count": 5,
     "metadata": {},
     "output_type": "execute_result"
    }
   ],
   "source": [
    "c(test_message, raw=True)"
   ]
  },
  {
   "cell_type": "markdown",
   "id": "778efa79",
   "metadata": {},
   "source": [
    "## Multiple Models\n",
    "\n",
    "Calling multiple models at once is as simple as giving a list of model slugs to `Call`."
   ]
  },
  {
   "cell_type": "code",
   "execution_count": 6,
   "id": "6d77bba9",
   "metadata": {},
   "outputs": [],
   "source": [
    "mc = Call(model_names)"
   ]
  },
  {
   "cell_type": "markdown",
   "id": "f458cc7d",
   "metadata": {},
   "source": [
    "If multiple models are giving a call will return a dictionary mapping with LLM slug and response for easy parsing."
   ]
  },
  {
   "cell_type": "code",
   "execution_count": 7,
   "id": "06ca1739",
   "metadata": {},
   "outputs": [
    {
     "data": {
      "text/plain": [
       "{'moonshotai/kimi-k2:free': 'The guitar solo on Steely Dan\\'s \"Kid Charlemagne\" was played by **Larry Carlton**.',\n",
       " 'google/gemma-3n-e2b-it:free': 'The guitar solo on Steely Dan\\'s \"Kid Charlemagne\" was played by **Larry Carlton**. He\\'s known for his distinctive and sophisticated guitar playing, and his work on this song is considered a highlight of the album.\\n'}"
      ]
     },
     "execution_count": 7,
     "metadata": {},
     "output_type": "execute_result"
    }
   ],
   "source": [
    "resps = mc(test_message)\n",
    "resps"
   ]
  },
  {
   "cell_type": "markdown",
   "id": "71fb3249",
   "metadata": {},
   "source": [
    "It can then be parsed."
   ]
  },
  {
   "cell_type": "code",
   "execution_count": 9,
   "id": "30815641",
   "metadata": {},
   "outputs": [
    {
     "data": {
      "text/markdown": [
       "The guitar solo on Steely Dan's \"Kid Charlemagne\" was played by **Larry Carlton**. He's known for his distinctive and sophisticated guitar playing, and his work on this song is considered a highlight of the album.\n"
      ],
      "text/plain": [
       "<IPython.core.display.Markdown object>"
      ]
     },
     "metadata": {},
     "output_type": "display_data"
    }
   ],
   "source": [
    "nb_markdown(resps[\"google/gemma-3n-e2b-it:free\"])"
   ]
  },
  {
   "cell_type": "markdown",
   "id": "45c9ab23",
   "metadata": {},
   "source": [
    "I hope you have a good overview of how to work with `Call`. If you would like to track history and token usage check out the `Chat` object in `irouter`."
   ]
  }
 ],
 "metadata": {
  "kernelspec": {
   "display_name": "py312",
   "language": "python",
   "name": "python3"
  },
  "language_info": {
   "codemirror_mode": {
    "name": "ipython",
    "version": 3
   },
   "file_extension": ".py",
   "mimetype": "text/x-python",
   "name": "python",
   "nbconvert_exporter": "python",
   "pygments_lexer": "ipython3",
   "version": "3.12.0"
  }
 },
 "nbformat": 4,
 "nbformat_minor": 5
}
