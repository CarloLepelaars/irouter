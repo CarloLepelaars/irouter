{
 "cells": [
  {
   "cell_type": "markdown",
   "id": "5439cc4b",
   "metadata": {},
   "source": [
    "# Call\n",
    "\n",
    "`Call` is a simple object for one-off calls to LLMs. It does not track history or token usage."
   ]
  },
  {
   "cell_type": "code",
   "execution_count": 1,
   "id": "1585981a",
   "metadata": {},
   "outputs": [],
   "source": [
    "from irouter import Call\n",
    "from irouter.base import nb_markdown\n",
    "\n",
    "# To load OPENROUTER_API_KEY from .env file create a .env file at the root of the project with OPENROUTER_API_KEY=your_api_key\n",
    "# Alternatively pass api_key=your_api_key to the Call class\n",
    "from dotenv import load_dotenv\n",
    "load_dotenv();"
   ]
  },
  {
   "cell_type": "markdown",
   "id": "39974d87",
   "metadata": {},
   "source": [
    "In this notebook we will use free tiers for Moonshot AI's Kimi K2 and Google's Gemma 3N. \n",
    "\n",
    "An overview of all available models can be found by calling `get_all_models`:\n",
    "```python\n",
    "from irouter.base import get_all_models\n",
    "model_slugs = get_all_models()\n",
    "model_slugs\n",
    "```"
   ]
  },
  {
   "cell_type": "code",
   "execution_count": 2,
   "id": "2d630975",
   "metadata": {},
   "outputs": [],
   "source": [
    "model_names = [\"moonshotai/kimi-k2:free\", \"google/gemma-3n-e2b-it:free\"]\n",
    "\n",
    "test_message = \"Who played the guitar solo on Steely Dan's Kid Charlemagne?\""
   ]
  },
  {
   "cell_type": "markdown",
   "id": "5b0e04c5",
   "metadata": {},
   "source": [
    "# Single Model\n",
    "\n",
    "The simplest way to use `Call` is use a single LLM by giving a model slug."
   ]
  },
  {
   "cell_type": "markdown",
   "id": "8056ef65",
   "metadata": {},
   "source": [
    "In this example we initialize a `Call` object with the free tier of Moonshot AI's Kimi-K2 LLM.\n",
    "\n",
    "To set the API key you can either set an environment variable for `OPENROUTER_API_KEY` to your project or pass `api_key` when initializing `Call`."
   ]
  },
  {
   "cell_type": "code",
   "execution_count": 3,
   "id": "5b36549c",
   "metadata": {},
   "outputs": [],
   "source": [
    "c = Call(model_names[0])\n",
    "# or\n",
    "# c = Call(model_names[0], api_key=\"your_api_key\")"
   ]
  },
  {
   "cell_type": "code",
   "execution_count": 4,
   "id": "d5470f9f",
   "metadata": {},
   "outputs": [
    {
     "data": {
      "text/markdown": [
       "The guitar solo on **\"Kid Charlemagne\"** from Steely Dan's 1976 album *The Royal Scam* was played by **Larry Carlton**."
      ],
      "text/plain": [
       "<IPython.core.display.Markdown object>"
      ]
     },
     "metadata": {},
     "output_type": "display_data"
    }
   ],
   "source": [
    "nb_markdown(c(test_message))"
   ]
  },
  {
   "cell_type": "markdown",
   "id": "c1fdb618",
   "metadata": {},
   "source": [
    "If needed you can get the raw `ChatCompletion` object from a call by setting `raw=True`."
   ]
  },
  {
   "cell_type": "code",
   "execution_count": 5,
   "id": "24c0c707",
   "metadata": {},
   "outputs": [
    {
     "data": {
      "text/plain": [
       "ChatCompletion(id='gen-1754219652-qzjK7kiw5NQu9q57UJlN', choices=[Choice(finish_reason='stop', index=0, logprobs=None, message=ChatCompletionMessage(content='The guitar solo on Steely Dan\\'s *\"Kid Charlemagne\"* was played by **Larry Carlton**.', refusal=None, role='assistant', annotations=None, audio=None, function_call=None, tool_calls=None, reasoning=None), native_finish_reason='stop')], created=1754219652, model='moonshotai/kimi-k2:free', object='chat.completion', service_tier=None, system_fingerprint=None, usage=CompletionUsage(completion_tokens=23, prompt_tokens=40, total_tokens=63, completion_tokens_details=None, prompt_tokens_details=None), provider='Parasail')"
      ]
     },
     "execution_count": 5,
     "metadata": {},
     "output_type": "execute_result"
    }
   ],
   "source": [
    "c(test_message, raw=True)"
   ]
  },
  {
   "cell_type": "markdown",
   "id": "778efa79",
   "metadata": {},
   "source": [
    "# Multiple Models\n",
    "\n",
    "Calling multiple models at once is as simple as giving a list of model slugs to `Call`."
   ]
  },
  {
   "cell_type": "code",
   "execution_count": 6,
   "id": "6d77bba9",
   "metadata": {},
   "outputs": [],
   "source": [
    "mc = Call(model_names)"
   ]
  },
  {
   "cell_type": "markdown",
   "id": "f458cc7d",
   "metadata": {},
   "source": [
    "If multiple models are giving a call will return a dictionary mapping with LLM slug and response for easy parsing."
   ]
  },
  {
   "cell_type": "code",
   "execution_count": 7,
   "id": "06ca1739",
   "metadata": {},
   "outputs": [
    {
     "data": {
      "text/plain": [
       "{'moonshotai/kimi-k2:free': 'The guitar solo on Steely Dan’s *Kid Charlemagne* was played by **Larry Carlton**.',\n",
       " 'google/gemma-3n-e2b-it:free': 'The guitar solo on Steely Dan\\'s \"Kid Charlemagne\" was played by **Steve Gadd**. \\n\\nThis is a bit of a trick answer! Steve Gadd is famous for being a drummer, not a guitarist. However, in this particular song, he did indeed play a remarkably impressive and distinctive guitar solo. He\\'s known for his incredible dexterity and improvisational skills, and it\\'s a standout moment on the album.\\n\\nSo, while not a guitarist by trade, **Steve Gadd** is the performer of the guitar solo on \"Kid Charlemagne.\"\\n\\n\\n\\n'}"
      ]
     },
     "execution_count": 7,
     "metadata": {},
     "output_type": "execute_result"
    }
   ],
   "source": [
    "resps = mc(test_message)\n",
    "resps"
   ]
  },
  {
   "cell_type": "markdown",
   "id": "71fb3249",
   "metadata": {},
   "source": [
    "It can then be parsed."
   ]
  },
  {
   "cell_type": "code",
   "execution_count": 8,
   "id": "30815641",
   "metadata": {},
   "outputs": [
    {
     "data": {
      "text/markdown": [
       "The guitar solo on Steely Dan's \"Kid Charlemagne\" was played by **Steve Gadd**. \n",
       "\n",
       "This is a bit of a trick answer! Steve Gadd is famous for being a drummer, not a guitarist. However, in this particular song, he did indeed play a remarkably impressive and distinctive guitar solo. He's known for his incredible dexterity and improvisational skills, and it's a standout moment on the album.\n",
       "\n",
       "So, while not a guitarist by trade, **Steve Gadd** is the performer of the guitar solo on \"Kid Charlemagne.\"\n",
       "\n",
       "\n",
       "\n"
      ],
      "text/plain": [
       "<IPython.core.display.Markdown object>"
      ]
     },
     "metadata": {},
     "output_type": "display_data"
    }
   ],
   "source": [
    "nb_markdown(resps[\"google/gemma-3n-e2b-it:free\"])"
   ]
  },
  {
   "cell_type": "markdown",
   "id": "bec0bc46",
   "metadata": {},
   "source": [
    "# Messages \n",
    "\n",
    "For certain cases you might want to pass a list of messages to the Call class. For example to simulate a conversation.\n",
    "\n",
    "In that case messages should be defined as a **list of dicts which define `role` and `content`**.\n",
    "\n",
    "NOTE: The `system` parameter will be ignored if you pass a list of messages. Therefore when using this approach optionally also define a system message in your list of messages.\n",
    "\n",
    "Here is an example of a conversation between a user and an assistant with a system message at the start."
   ]
  },
  {
   "cell_type": "code",
   "execution_count": 9,
   "id": "6c147af5",
   "metadata": {},
   "outputs": [
    {
     "data": {
      "text/plain": [
       "\"You're absolutely right—my apologies for the mix-up. The correct capital of France is **Paris**.\""
      ]
     },
     "execution_count": 9,
     "metadata": {},
     "output_type": "execute_result"
    }
   ],
   "source": [
    "messages = [\n",
    "    {\"role\": \"system\", \"content\": \"You are a helpful assistant.\"},\n",
    "    {\"role\": \"user\", \"content\": \"What is the capital of France?\"},\n",
    "    {\"role\": \"assistant\", \"content\": \"The capital of France is Amsterdam.\"},\n",
    "    {\n",
    "        \"role\": \"user\",\n",
    "        \"content\": \"No silly, why would you say Amsterdam is the capital of France?\",\n",
    "    },\n",
    "]\n",
    "\n",
    "c = Call(model_names[0])\n",
    "c(messages)"
   ]
  },
  {
   "cell_type": "markdown",
   "id": "45c9ab23",
   "metadata": {},
   "source": [
    "I hope this gives you a good overview of the basic usage of `Call`. If you would like to track history and token usage check out the `Chat` object in `irouter`. Check `img.ipynb`, `pdf.ipynb` and `audio.ipynb` for examples on using `Call` with other modalities."
   ]
  },
  {
   "cell_type": "markdown",
   "id": "af62fba9",
   "metadata": {},
   "source": []
  }
 ],
 "metadata": {
  "kernelspec": {
   "display_name": "py312",
   "language": "python",
   "name": "python3"
  },
  "language_info": {
   "codemirror_mode": {
    "name": "ipython",
    "version": 3
   },
   "file_extension": ".py",
   "mimetype": "text/x-python",
   "name": "python",
   "nbconvert_exporter": "python",
   "pygments_lexer": "ipython3",
   "version": "3.12.0"
  }
 },
 "nbformat": 4,
 "nbformat_minor": 5
}
