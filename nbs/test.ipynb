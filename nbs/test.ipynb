{
 "cells": [
  {
   "cell_type": "code",
   "execution_count": 1,
   "id": "12b9cf90",
   "metadata": {},
   "outputs": [
    {
     "data": {
      "text/plain": [
       "True"
      ]
     },
     "execution_count": 1,
     "metadata": {},
     "output_type": "execute_result"
    }
   ],
   "source": [
    "from irouter import Call, Chat\n",
    "\n",
    "from dotenv import load_dotenv\n",
    "\n",
    "load_dotenv()"
   ]
  },
  {
   "cell_type": "code",
   "execution_count": 2,
   "id": "9088476d",
   "metadata": {},
   "outputs": [],
   "source": [
    "model_names = [\"moonshotai/kimi-k2:free\", \"google/gemini-2.0-flash-exp:free\"]"
   ]
  },
  {
   "cell_type": "markdown",
   "id": "6ccdc343",
   "metadata": {},
   "source": [
    "# Call"
   ]
  },
  {
   "cell_type": "code",
   "execution_count": 3,
   "id": "2553b42d",
   "metadata": {},
   "outputs": [
    {
     "data": {
      "text/plain": [
       "ChatCompletion(id='gen-1753978665-N6tqEUY0gboKQ7pXSRUg', choices=[Choice(finish_reason='stop', index=0, logprobs=None, message=ChatCompletionMessage(content='Legendary session guitarist **Larry Carlton** played the searing, jazz-rock guitar solo on Steely Dan\\'s \"Kid Charlemagne.\"', refusal=None, role='assistant', annotations=None, audio=None, function_call=None, tool_calls=None, reasoning=None), native_finish_reason='stop')], created=1753978666, model='moonshotai/kimi-k2:free', object='chat.completion', service_tier=None, system_fingerprint=None, usage=CompletionUsage(completion_tokens=29, prompt_tokens=32, total_tokens=61, completion_tokens_details=None, prompt_tokens_details=None), provider='Parasail')"
      ]
     },
     "execution_count": 3,
     "metadata": {},
     "output_type": "execute_result"
    }
   ],
   "source": [
    "c = Call(model_names[0], system=\"You are a helpful assistant.\")\n",
    "c(\"Who played the guitar solo on Steely Dan's Kid Charlemagne?\")"
   ]
  },
  {
   "cell_type": "code",
   "execution_count": 5,
   "id": "68eaa522",
   "metadata": {},
   "outputs": [
    {
     "data": {
      "text/plain": [
       "['moonshotai/kimi-k2:free']"
      ]
     },
     "execution_count": 5,
     "metadata": {},
     "output_type": "execute_result"
    }
   ],
   "source": [
    "c.model"
   ]
  },
  {
   "cell_type": "code",
   "execution_count": 6,
   "id": "f85ecc6f",
   "metadata": {},
   "outputs": [
    {
     "data": {
      "text/plain": [
       "ChatCompletion(id='gen-1753978692-PXdAkwAcRKjp5oqLvb0c', choices=[Choice(finish_reason='stop', index=0, logprobs=None, message=ChatCompletionMessage(content='Could you tell me which specific record you’re talking about? Once I know the album or song title (and ideally the artist), I can list the other performers who appear on it.', refusal=None, role='assistant', annotations=None, audio=None, function_call=None, tool_calls=None, reasoning=None), native_finish_reason='stop')], created=1753978693, model='moonshotai/kimi-k2:free', object='chat.completion', service_tier=None, system_fingerprint=None, usage=CompletionUsage(completion_tokens=38, prompt_tokens=24, total_tokens=62, completion_tokens_details=None, prompt_tokens_details=None), provider='Chutes')"
      ]
     },
     "execution_count": 6,
     "metadata": {},
     "output_type": "execute_result"
    }
   ],
   "source": [
    "c(\"Who else played on the record?\")"
   ]
  },
  {
   "cell_type": "code",
   "execution_count": null,
   "id": "6e5718bf",
   "metadata": {},
   "outputs": [],
   "source": [
    "from irouter.base import history_to_markdown\n",
    "\n",
    "history_to_markdown(c.history, ipython=True)"
   ]
  },
  {
   "cell_type": "markdown",
   "id": "ca5c8c6b",
   "metadata": {},
   "source": [
    "# Multiple models"
   ]
  },
  {
   "cell_type": "code",
   "execution_count": null,
   "id": "41f29c5c",
   "metadata": {},
   "outputs": [],
   "source": [
    "c = Chat(model_names, system=\"You are a helpful assistant.\")\n",
    "c(\"Who played the drums on The Beatles' Back in the U.S.S.R.?\")"
   ]
  },
  {
   "cell_type": "code",
   "execution_count": null,
   "id": "dbe41894",
   "metadata": {},
   "outputs": [],
   "source": [
    "c.history[\"moonshotai/kimi-k2:free\"]"
   ]
  },
  {
   "cell_type": "code",
   "execution_count": null,
   "id": "101a6743",
   "metadata": {},
   "outputs": [],
   "source": [
    "c.history[\"google/gemini-2.0-flash-exp:free\"]"
   ]
  },
  {
   "cell_type": "markdown",
   "id": "31d7265a",
   "metadata": {},
   "source": [
    "# Openrouter auto"
   ]
  },
  {
   "cell_type": "code",
   "execution_count": null,
   "id": "ad7e8e01",
   "metadata": {},
   "outputs": [],
   "source": [
    "c = Chat(\"openrouter/auto\", system=\"You are a helpful assistant.\")\n",
    "c(\n",
    "    \"Which guitarists played on Steely Dan's Kid Charlemagne? Who played the guitar solo?\"\n",
    ")"
   ]
  },
  {
   "cell_type": "markdown",
   "id": "e80d9ab4",
   "metadata": {},
   "source": [
    "# Basic Openrouter API calls"
   ]
  },
  {
   "cell_type": "code",
   "execution_count": null,
   "id": "89440b48",
   "metadata": {},
   "outputs": [],
   "source": [
    "from irouter.base import get_all_models\n",
    "\n",
    "all_models = get_all_models()"
   ]
  },
  {
   "cell_type": "code",
   "execution_count": null,
   "id": "925881c7",
   "metadata": {},
   "outputs": [],
   "source": [
    "all_models[-5:]"
   ]
  },
  {
   "cell_type": "code",
   "execution_count": null,
   "id": "b50511f3",
   "metadata": {},
   "outputs": [],
   "source": []
  }
 ],
 "metadata": {
  "kernelspec": {
   "display_name": "py312",
   "language": "python",
   "name": "python3"
  },
  "language_info": {
   "codemirror_mode": {
    "name": "ipython",
    "version": 3
   },
   "file_extension": ".py",
   "mimetype": "text/x-python",
   "name": "python",
   "nbconvert_exporter": "python",
   "pygments_lexer": "ipython3",
   "version": "3.12.0"
  }
 },
 "nbformat": 4,
 "nbformat_minor": 5
}
