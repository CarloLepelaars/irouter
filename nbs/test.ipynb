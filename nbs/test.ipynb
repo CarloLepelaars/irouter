{
 "cells": [
  {
   "cell_type": "code",
   "execution_count": 1,
   "id": "12b9cf90",
   "metadata": {},
   "outputs": [
    {
     "data": {
      "text/plain": [
       "True"
      ]
     },
     "execution_count": 1,
     "metadata": {},
     "output_type": "execute_result"
    }
   ],
   "source": [
    "from irouter.chat import Chat\n",
    "\n",
    "from dotenv import load_dotenv\n",
    "load_dotenv()\n"
   ]
  },
  {
   "cell_type": "code",
   "execution_count": 2,
   "id": "9088476d",
   "metadata": {},
   "outputs": [],
   "source": [
    "model_names = [\"moonshotai/kimi-k2:free\", \"google/gemini-2.0-flash-exp:free\"]\n"
   ]
  },
  {
   "cell_type": "markdown",
   "id": "6ccdc343",
   "metadata": {},
   "source": [
    "# Single Model"
   ]
  },
  {
   "cell_type": "code",
   "execution_count": 3,
   "id": "2553b42d",
   "metadata": {},
   "outputs": [
    {
     "data": {
      "text/plain": [
       "'The guitar solo on Steely Dan’s *Kid Charlemagne* was played by **Larry Carlton**.'"
      ]
     },
     "execution_count": 3,
     "metadata": {},
     "output_type": "execute_result"
    }
   ],
   "source": [
    "c = Chat(model_names[0], system=\"You are a helpful assistant.\")\n",
    "c(\"Who played the guitar solo on Steely Dan's Kid Charlemagne?\")"
   ]
  },
  {
   "cell_type": "code",
   "execution_count": 4,
   "id": "ffb12f5f",
   "metadata": {},
   "outputs": [
    {
     "data": {
      "text/plain": [
       "{'moonshotai/kimi-k2:free': [{'role': 'system',\n",
       "   'content': 'You are a helpful assistant.'},\n",
       "  {'role': 'user',\n",
       "   'content': \"Who played the guitar solo on Steely Dan's Kid Charlemagne?\"},\n",
       "  {'role': 'assistant',\n",
       "   'content': 'The guitar solo on Steely Dan’s *Kid Charlemagne* was played by **Larry Carlton**.'}]}"
      ]
     },
     "execution_count": 4,
     "metadata": {},
     "output_type": "execute_result"
    }
   ],
   "source": [
    "c.history"
   ]
  },
  {
   "cell_type": "code",
   "execution_count": 5,
   "id": "f85ecc6f",
   "metadata": {},
   "outputs": [
    {
     "data": {
      "text/plain": [
       "'Kid Charlemagne (recorded March–April 1976, released on The Royal Scam) had the following credited musicians:\\n\\nSteely Dan:  \\n- Donald Fagen – electric piano, lead and backing vocals  \\n- Walter Becker – electric bass, rhythm guitar (middle-8), associate producer/arrangement\\n\\nSession musicians:  \\n- Larry Carlton – lead guitar (all tracks on Royal Scam, including the “Kid Charlemagne” solo)  \\n- Denny Dias – rhythm guitar, Mickey-Mouse guitar (single-picked eighth-note pattern, whole song, left channel)  \\n- Paul Griffin – clavinet (intro groove)  \\n- Victor Feldman – Fender Rhodes electric piano (fills)  \\n- Michael McDonald – backing vocals  \\n- Timothy B. Schmit – backing vocals  \\n- Walter Becker – electric bass (main line)  \\n- Bernard Purdie – drums  \\n- Chuck Rainey – credited on bass “set-ups” (prep/tracking when Becker switched to rhythm guitar)\\n\\nUncredited/ghost parts:  \\n- Venetta Fields & Clydie King – additional background vocal sweetening released in subsequent mixes  \\n- Roger “Rock” Nichols – additional engineering, class-the-last comping.'"
      ]
     },
     "execution_count": 5,
     "metadata": {},
     "output_type": "execute_result"
    }
   ],
   "source": [
    "c(\"Who else played on the record?\")"
   ]
  },
  {
   "cell_type": "code",
   "execution_count": 7,
   "id": "6e5718bf",
   "metadata": {},
   "outputs": [
    {
     "data": {
      "text/markdown": [
       "**System:** You are a helpful assistant.\n",
       "\n",
       "**User:** Who played the guitar solo on Steely Dan's Kid Charlemagne?\n",
       "\n",
       "**Assistant:** The guitar solo on Steely Dan’s *Kid Charlemagne* was played by **Larry Carlton**.\n",
       "\n",
       "**User:** Who else played on the record?\n",
       "\n",
       "**Assistant:** Kid Charlemagne (recorded March–April 1976, released on The Royal Scam) had the following credited musicians:\n",
       "\n",
       "Steely Dan:  \n",
       "- Donald Fagen – electric piano, lead and backing vocals  \n",
       "- Walter Becker – electric bass, rhythm guitar (middle-8), associate producer/arrangement\n",
       "\n",
       "Session musicians:  \n",
       "- Larry Carlton – lead guitar (all tracks on Royal Scam, including the “Kid Charlemagne” solo)  \n",
       "- Denny Dias – rhythm guitar, Mickey-Mouse guitar (single-picked eighth-note pattern, whole song, left channel)  \n",
       "- Paul Griffin – clavinet (intro groove)  \n",
       "- Victor Feldman – Fender Rhodes electric piano (fills)  \n",
       "- Michael McDonald – backing vocals  \n",
       "- Timothy B. Schmit – backing vocals  \n",
       "- Walter Becker – electric bass (main line)  \n",
       "- Bernard Purdie – drums  \n",
       "- Chuck Rainey – credited on bass “set-ups” (prep/tracking when Becker switched to rhythm guitar)\n",
       "\n",
       "Uncredited/ghost parts:  \n",
       "- Venetta Fields & Clydie King – additional background vocal sweetening released in subsequent mixes  \n",
       "- Roger “Rock” Nichols – additional engineering, class-the-last comping."
      ],
      "text/plain": [
       "<IPython.core.display.Markdown object>"
      ]
     },
     "metadata": {},
     "output_type": "display_data"
    }
   ],
   "source": [
    "from irouter.base import history_to_markdown\n",
    "\n",
    "history_to_markdown(c.history, ipython=True)"
   ]
  },
  {
   "cell_type": "markdown",
   "id": "ca5c8c6b",
   "metadata": {},
   "source": [
    "# Multiple models"
   ]
  },
  {
   "cell_type": "code",
   "execution_count": null,
   "id": "41f29c5c",
   "metadata": {},
   "outputs": [],
   "source": [
    "c = Chat(model_names, system=\"You are a helpful assistant.\")\n",
    "c(\"Who played the drums on The Beatles' Back in the U.S.S.R.?\")"
   ]
  },
  {
   "cell_type": "code",
   "execution_count": null,
   "id": "dbe41894",
   "metadata": {},
   "outputs": [],
   "source": [
    "c.history['moonshotai/kimi-k2:free']"
   ]
  },
  {
   "cell_type": "code",
   "execution_count": null,
   "id": "101a6743",
   "metadata": {},
   "outputs": [],
   "source": [
    "c.history['google/gemini-2.0-flash-exp:free']"
   ]
  },
  {
   "cell_type": "markdown",
   "id": "31d7265a",
   "metadata": {},
   "source": [
    "# Openrouter auto"
   ]
  },
  {
   "cell_type": "code",
   "execution_count": null,
   "id": "ad7e8e01",
   "metadata": {},
   "outputs": [],
   "source": [
    "c = Chat(\"openrouter/auto\", system=\"You are a helpful assistant.\")\n",
    "c(\"Which guitarists played on Steely Dan's Kid Charlemagne? Who played the guitar solo?\")"
   ]
  },
  {
   "cell_type": "markdown",
   "id": "e80d9ab4",
   "metadata": {},
   "source": [
    "# Basic Openrouter API calls"
   ]
  },
  {
   "cell_type": "code",
   "execution_count": 8,
   "id": "89440b48",
   "metadata": {},
   "outputs": [],
   "source": [
    "from irouter.base import get_all_models\n",
    "\n",
    "all_models = get_all_models()"
   ]
  },
  {
   "cell_type": "code",
   "execution_count": 11,
   "id": "925881c7",
   "metadata": {},
   "outputs": [
    {
     "data": {
      "text/plain": [
       "['undi95/remm-slerp-l2-13b',\n",
       " 'gryphe/mythomax-l2-13b',\n",
       " 'openai/gpt-3.5-turbo',\n",
       " 'openai/gpt-4',\n",
       " 'openai/gpt-4-0314']"
      ]
     },
     "execution_count": 11,
     "metadata": {},
     "output_type": "execute_result"
    }
   ],
   "source": [
    "all_models[-5:]"
   ]
  },
  {
   "cell_type": "code",
   "execution_count": null,
   "id": "b50511f3",
   "metadata": {},
   "outputs": [],
   "source": []
  }
 ],
 "metadata": {
  "kernelspec": {
   "display_name": "py312",
   "language": "python",
   "name": "python3"
  },
  "language_info": {
   "codemirror_mode": {
    "name": "ipython",
    "version": 3
   },
   "file_extension": ".py",
   "mimetype": "text/x-python",
   "name": "python",
   "nbconvert_exporter": "python",
   "pygments_lexer": "ipython3",
   "version": "3.12.0"
  }
 },
 "nbformat": 4,
 "nbformat_minor": 5
}
