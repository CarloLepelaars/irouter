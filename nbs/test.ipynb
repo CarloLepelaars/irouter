{
 "cells": [
  {
   "cell_type": "code",
   "execution_count": 1,
   "id": "12b9cf90",
   "metadata": {},
   "outputs": [
    {
     "data": {
      "text/plain": [
       "True"
      ]
     },
     "execution_count": 1,
     "metadata": {},
     "output_type": "execute_result"
    }
   ],
   "source": [
    "from irouter.chat import Chat\n",
    "\n",
    "from dotenv import load_dotenv\n",
    "load_dotenv()\n"
   ]
  },
  {
   "cell_type": "code",
   "execution_count": 4,
   "id": "2553b42d",
   "metadata": {},
   "outputs": [
    {
     "data": {
      "text/plain": [
       "'Both Walter Becker and Denny Dias overdubbed rhythm guitar parts, but the blistering, fusion-influenced guitar solo on Steely Dan’s “Kid Charlemagne” is played by **Larry Carlton**.'"
      ]
     },
     "execution_count": 4,
     "metadata": {},
     "output_type": "execute_result"
    }
   ],
   "source": [
    "c = Chat(\"moonshotai/kimi-k2:free\", system=\"You are a helpful assistant.\")\n",
    "c(\"Who played the guitar solo on Steely Dan's Kid Charlemagne?\")"
   ]
  },
  {
   "cell_type": "code",
   "execution_count": null,
   "id": "89440b48",
   "metadata": {},
   "outputs": [],
   "source": []
  }
 ],
 "metadata": {
  "kernelspec": {
   "display_name": "py312",
   "language": "python",
   "name": "python3"
  },
  "language_info": {
   "codemirror_mode": {
    "name": "ipython",
    "version": 3
   },
   "file_extension": ".py",
   "mimetype": "text/x-python",
   "name": "python",
   "nbconvert_exporter": "python",
   "pygments_lexer": "ipython3",
   "version": "3.12.0"
  }
 },
 "nbformat": 4,
 "nbformat_minor": 5
}
