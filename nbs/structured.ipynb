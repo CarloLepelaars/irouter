{
 "cells": [
  {
   "cell_type": "markdown",
   "id": "f15c8780",
   "metadata": {},
   "source": [
    "# Structured Output\n",
    "\n",
    "`irouter` supports structured output out of the box. Simply pass a schema to the `response_format` parameter in a call to `Call` or `Chat`. This notebook will explain how to define schemas and get structured output from `irouter`."
   ]
  },
  {
   "cell_type": "code",
   "execution_count": 1,
   "id": "56ad5ed1",
   "metadata": {},
   "outputs": [],
   "source": [
    "import json\n",
    "from irouter import Call\n",
    "\n",
    "# To load OPENROUTER_API_KEY from .env file create a .env file at the root of the project with OPENROUTER_API_KEY=your_api_key\n",
    "# Alternatively pass api_key=your_api_key to the Call or Chat class\n",
    "from dotenv import load_dotenv\n",
    "\n",
    "load_dotenv();"
   ]
  },
  {
   "cell_type": "markdown",
   "id": "490aba69",
   "metadata": {},
   "source": [
    "## Response Schema\n",
    "\n",
    "`response_format` is a parameter which expects a dictionary with the following structure. Below shows an annotated example of a response format schema.\n",
    "\n",
    "For details on the schema format, check the [OpenRouter docs](https://openrouter.ai/docs/features/structured-outputs#using-structured-outputs)."
   ]
  },
  {
   "cell_type": "code",
   "execution_count": 2,
   "id": "510dc3c2",
   "metadata": {},
   "outputs": [],
   "source": [
    "response_format = {\n",
    "    # Define the desired type, which is almost always json_schema\n",
    "    \"type\": \"json_schema\",\n",
    "    # Define the schema\n",
    "    \"json_schema\": {\n",
    "        # Name for your schema (not that important what you call this)\n",
    "        \"name\": \"dogs\",\n",
    "        # Strict mode ensures that the response is exactly as defined in the schema\n",
    "        \"strict\": True,\n",
    "        # Here you define the actual dictionary output you would like to receive\n",
    "        \"schema\": {\n",
    "            \"type\": \"object\",\n",
    "            # Properties are the keys of the object you would like returned\n",
    "            # For each property, you can define the type (number, string, etc.) and a short description\n",
    "            \"properties\": {\n",
    "                # 1. Amount of dogs in the image\n",
    "                \"amount\": {\"type\": \"number\", \"description\": \"Amount of dogs\"},\n",
    "                # 2. Breed of the dogs\n",
    "                \"breed\": {\"type\": \"string\", \"description\": \"Breed of the dogs\"},\n",
    "                # 3. Background of the image\n",
    "                \"background\": {\n",
    "                    \"type\": \"string\",\n",
    "                    \"description\": \"Background of the image\",\n",
    "                },\n",
    "            },\n",
    "            # Required defines the keys that are always present in the response\n",
    "            \"required\": [\"amount\", \"breed\", \"background\"],\n",
    "            # Setting additionalProperties to False ensures that no other keys\n",
    "            # besides the ones defined in required are present in the response.\n",
    "            \"additionalProperties\": False,\n",
    "        },\n",
    "    },\n",
    "}"
   ]
  },
  {
   "cell_type": "markdown",
   "id": "2bf4440a",
   "metadata": {},
   "source": [
    "## LLM Call\n",
    "\n",
    "Not all models support structured outputs. Check the [model overview](https://openrouter.ai/models?fmt=cards&supported_parameters=response_format) to see which models support `response_format`. \n",
    "\n",
    "In this example we identify the `amount` of dogs in an image, their `breed` and the `background` of the image. As you can see there are 7 German Shepherds in the image. \n",
    "\n",
    "We expect the response to be something like:\n",
    "\n",
    "```json\n",
    "{\n",
    "    \"amount\": 7,\n",
    "    \"breed\": \"German Shepherd\",\n",
    "    \"background\": \"outdoor yard\"\n",
    "}\n",
    "```\n",
    "\n",
    "![](https://i.pinimg.com/564x/6e/7a/87/6e7a87269e40e053e3fa33e7f0e3eef8.jpg)\n",
    "\n",
    "I found `gpt-5-mini` to be a good choice for relatively easy structured outputs with the option for multi-modal input. \n",
    "\n",
    "Below, GPT 5 Mini is called with the image and our schema. The output is then parsed into a dictionary with `json.loads`.\n"
   ]
  },
  {
   "cell_type": "code",
   "execution_count": 3,
   "id": "2aa88cb9",
   "metadata": {},
   "outputs": [
    {
     "data": {
      "text/plain": [
       "{'amount': 7,\n",
       " 'breed': 'German Shepherd',\n",
       " 'background': 'outdoor grassy yard with trees and a wooden fence'}"
      ]
     },
     "execution_count": 3,
     "metadata": {},
     "output_type": "execute_result"
    }
   ],
   "source": [
    "c = Call(\"openai/gpt-5-mini\")\n",
    "r = c(\n",
    "    [\"https://i.pinimg.com/564x/6e/7a/87/6e7a87269e40e053e3fa33e7f0e3eef8.jpg\"],\n",
    "    response_format=response_format,\n",
    ")\n",
    "j = json.loads(r)\n",
    "j"
   ]
  },
  {
   "cell_type": "code",
   "execution_count": 4,
   "id": "9c177f19",
   "metadata": {},
   "outputs": [
    {
     "data": {
      "text/plain": [
       "7"
      ]
     },
     "execution_count": 4,
     "metadata": {},
     "output_type": "execute_result"
    }
   ],
   "source": [
    "j[\"amount\"]"
   ]
  },
  {
   "cell_type": "code",
   "execution_count": 5,
   "id": "2ce648fe",
   "metadata": {},
   "outputs": [
    {
     "name": "stdout",
     "output_type": "stream",
     "text": [
      "The image shows 7 German Shepherds in a outdoor grassy yard with trees and a wooden fence.\n"
     ]
    }
   ],
   "source": [
    "print(f\"The image shows {j['amount']} {j['breed']}s in a {j['background']}.\")"
   ]
  }
 ],
 "metadata": {
  "kernelspec": {
   "display_name": "py312",
   "language": "python",
   "name": "python3"
  },
  "language_info": {
   "codemirror_mode": {
    "name": "ipython",
    "version": 3
   },
   "file_extension": ".py",
   "mimetype": "text/x-python",
   "name": "python",
   "nbconvert_exporter": "python",
   "pygments_lexer": "ipython3",
   "version": "3.12.0"
  }
 },
 "nbformat": 4,
 "nbformat_minor": 5
}
