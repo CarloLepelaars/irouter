{
 "cells": [
  {
   "cell_type": "markdown",
   "id": "c62f717e",
   "metadata": {},
   "source": [
    "# GPT Open Source Models\n",
    "\n",
    "This notebook simply shows you how to use OpenAI's GPT 20B and 120B open source models with `irouter`. \n",
    "\n",
    "Read more about these models on the [OpenAI blog](https://openai.com/index/introducing-gpt-oss).\n",
    "\n",
    "There are two models available:\n",
    "\n",
    "- `openai/gpt-oss-20b` (Free tier with `openai/gpt-oss-20b:free`)\n",
    "- `openai/gpt-oss-120b`"
   ]
  },
  {
   "cell_type": "code",
   "execution_count": 1,
   "id": "10ee5390",
   "metadata": {},
   "outputs": [],
   "source": [
    "from irouter import Chat\n",
    "from IPython.display import display, Markdown\n",
    "\n",
    "# To load OPENROUTER_API_KEY with dotenv, create a .env file with OPENROUTER_API_KEY=your_api_key\n",
    "# Alternatively pass api_key=your_openrouter_api_key to the Chat class\n",
    "from dotenv import load_dotenv\n",
    "\n",
    "load_dotenv();"
   ]
  },
  {
   "cell_type": "markdown",
   "id": "dda41af1",
   "metadata": {},
   "source": [
    "# GPT OSS 20B (Free)\n",
    "\n",
    "The 20B model has a free tier with limited rate limits. To use this model in production use model slug `openai/gpt-oss-20b`."
   ]
  },
  {
   "cell_type": "code",
   "execution_count": 2,
   "id": "5cfb98bd",
   "metadata": {},
   "outputs": [
    {
     "data": {
      "text/markdown": [
       "I am GPT‑4, a transformer‑based language model consisting of billions of parameters trained on vast and diverse text corpora using unsupervised pre‑training followed by supervised fine‑tuning on instruction‑style data."
      ],
      "text/plain": [
       "<IPython.core.display.Markdown object>"
      ]
     },
     "metadata": {},
     "output_type": "display_data"
    }
   ],
   "source": [
    "c20b = Chat(\n",
    "    \"openai/gpt-oss-20b:free\",\n",
    "    #  api_key=\"your_openrouter_api_key\"\n",
    ")\n",
    "display(Markdown(c20b(\"Tell me technical details about you in 1 sentence.\")))"
   ]
  },
  {
   "cell_type": "code",
   "execution_count": 3,
   "id": "bd6b6004",
   "metadata": {},
   "outputs": [
    {
     "data": {
      "text/plain": [
       "[{'role': 'system', 'content': 'You are a helpful assistant.'},\n",
       " {'role': 'user',\n",
       "  'content': 'Tell me technical details about you in 1 sentence.'},\n",
       " {'role': 'assistant',\n",
       "  'content': 'I am GPT‑4, a transformer‑based language model consisting of billions of parameters trained on vast and diverse text corpora using unsupervised pre‑training followed by supervised fine‑tuning on instruction‑style data.'}]"
      ]
     },
     "execution_count": 3,
     "metadata": {},
     "output_type": "execute_result"
    }
   ],
   "source": [
    "c20b.history"
   ]
  },
  {
   "cell_type": "markdown",
   "id": "e30f1881",
   "metadata": {},
   "source": [
    "# GPT OSS 120B"
   ]
  },
  {
   "cell_type": "code",
   "execution_count": 4,
   "id": "1790f563",
   "metadata": {},
   "outputs": [
    {
     "data": {
      "text/markdown": [
       "LLaMA 2  \n",
       "Mistral 7B  \n",
       "Falcon 180B  \n",
       "OpenChat 3.5  \n",
       "GPT‑NeoX‑20B"
      ],
      "text/plain": [
       "<IPython.core.display.Markdown object>"
      ]
     },
     "metadata": {},
     "output_type": "display_data"
    }
   ],
   "source": [
    "c120b = Chat(\n",
    "    \"openai/gpt-oss-120b\",\n",
    "    #  api_key=\"your_openai_api_key\"\n",
    ")\n",
    "display(Markdown(c120b(\"Which 5 open source LLMs resemble you? Only return names.\")))"
   ]
  },
  {
   "cell_type": "code",
   "execution_count": 5,
   "id": "de6e9896",
   "metadata": {},
   "outputs": [
    {
     "data": {
      "text/plain": [
       "[{'role': 'system', 'content': 'You are a helpful assistant.'},\n",
       " {'role': 'user',\n",
       "  'content': 'Which open source 5 LLMs resemble you? Only return names.'},\n",
       " {'role': 'assistant',\n",
       "  'content': 'LLaMA\\u202f2  \\nMistral\\u202f7B  \\nFalcon\\u202f180B  \\nOpenChat\\u202f3.5  \\nGPT‑NeoX‑20B'}]"
      ]
     },
     "execution_count": 5,
     "metadata": {},
     "output_type": "execute_result"
    }
   ],
   "source": [
    "c120b.history"
   ]
  }
 ],
 "metadata": {
  "kernelspec": {
   "display_name": "py312",
   "language": "python",
   "name": "python3"
  },
  "language_info": {
   "codemirror_mode": {
    "name": "ipython",
    "version": 3
   },
   "file_extension": ".py",
   "mimetype": "text/x-python",
   "name": "python",
   "nbconvert_exporter": "python",
   "pygments_lexer": "ipython3",
   "version": "3.12.0"
  }
 },
 "nbformat": 4,
 "nbformat_minor": 5
}
