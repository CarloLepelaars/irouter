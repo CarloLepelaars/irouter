{
 "cells": [
  {
   "cell_type": "markdown",
   "id": "b31b9f2a",
   "metadata": {},
   "source": [
    "# (EXPERIMENTAL!) Change Base URL\n",
    "\n",
    "In general it's recommended to use `irouter` with [Openrouter](https://openrouter.ai) as the base API. You therefore don't need to specify the base URL. However, there may be some cases where you might insist on using a different API provider like `OpenAI` or `Grok`. You can make these APIs compatible with `irouter` by specifying the base URL.\n",
    "\n",
    "This notebook shows how to change the base URL to connect with a different API provider. "
   ]
  },
  {
   "cell_type": "code",
   "execution_count": 1,
   "id": "1ada59c5",
   "metadata": {},
   "outputs": [
    {
     "data": {
      "text/plain": [
       "True"
      ]
     },
     "execution_count": 1,
     "metadata": {},
     "output_type": "execute_result"
    }
   ],
   "source": [
    "import os\n",
    "from irouter import Chat\n",
    "\n",
    "# To load OPENAI_API_KEY from .env file create a .env file at the root of the project with OPENAI_API_KEY=your_api_key\n",
    "# Alternatively pass api_key=your_api_key to the Chat class\n",
    "from dotenv import load_dotenv\n",
    "\n",
    "load_dotenv()"
   ]
  },
  {
   "cell_type": "markdown",
   "id": "38a0fdcd",
   "metadata": {},
   "source": [
    "# OpenAI\n",
    "\n",
    "Here we use `irouter` directly with the OpenAI API by changing the `base_url` and `api_key`. "
   ]
  },
  {
   "cell_type": "code",
   "execution_count": 2,
   "id": "c562e431",
   "metadata": {},
   "outputs": [],
   "source": [
    "openai_base_url = \"https://api.openai.com/v1\"\n",
    "openai_api_key = os.getenv(\"OPENAI_API_KEY\")\n",
    "\n",
    "c = Chat(\"gpt-4o-mini\", base_url=openai_base_url, api_key=openai_api_key)"
   ]
  },
  {
   "cell_type": "markdown",
   "id": "b447aa8b",
   "metadata": {},
   "source": [
    "You can now use `Chat` as usual, but the calls are routed through `OpenAI` instead of `Openrouter`."
   ]
  },
  {
   "cell_type": "code",
   "execution_count": 5,
   "id": "859c7d57",
   "metadata": {},
   "outputs": [
    {
     "data": {
      "text/plain": [
       "'The image features a cute puppy, specifically a Corgi, sitting and looking at the camera. Its fur is a mix of brown and white, and it has large, expressive eyes. The background is blurred with a soft green hue, suggesting an outdoor setting.'"
      ]
     },
     "execution_count": 5,
     "metadata": {},
     "output_type": "execute_result"
    }
   ],
   "source": [
    "image_url = \"https://www.petlandflorida.com/wp-content/uploads/2022/04/shutterstock_1290320698-1-scaled.jpg\"\n",
    "c([image_url, \"What is in the image?\"])"
   ]
  }
 ],
 "metadata": {
  "kernelspec": {
   "display_name": "py312",
   "language": "python",
   "name": "python3"
  },
  "language_info": {
   "codemirror_mode": {
    "name": "ipython",
    "version": 3
   },
   "file_extension": ".py",
   "mimetype": "text/x-python",
   "name": "python",
   "nbconvert_exporter": "python",
   "pygments_lexer": "ipython3",
   "version": "3.12.0"
  }
 },
 "nbformat": 4,
 "nbformat_minor": 5
}
