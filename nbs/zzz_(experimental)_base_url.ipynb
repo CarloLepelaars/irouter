{
 "cells": [
  {
   "cell_type": "markdown",
   "id": "b31b9f2a",
   "metadata": {},
   "source": [
    "# (EXPERIMENTAL!) Change Base URL\n",
    "\n",
    "In general it's recommended to use `irouter` with [Openrouter](https://openrouter.ai) as the base API. You therefore don't need to specify the base URL. However, there may be some cases where you might insist on using a different API provider like `OpenAI` or `Grok`. \n",
    "\n",
    "You can make APIs that share the same OpenAI Spec compatible with `irouter` by specifying the base URL. These include:\n",
    "\n",
    "- OpenAI -> `\"https://api.openai.com/v1\"`\n",
    "- X.ai (Grok) -> `\"https://api.x.ai/v1\"`\n",
    "- Moonshot AI (Kimi) -> `\"https://api.moonshot.ai/v1\"`\n",
    "\n",
    "\n",
    "\n",
    "This notebook shows how to change the base URL to connect with a different API provider if you don't like using [OpenRouter.ai](https://openrouter.ai). "
   ]
  },
  {
   "cell_type": "code",
   "execution_count": 1,
   "id": "1ada59c5",
   "metadata": {},
   "outputs": [
    {
     "data": {
      "text/plain": [
       "True"
      ]
     },
     "execution_count": 1,
     "metadata": {},
     "output_type": "execute_result"
    }
   ],
   "source": [
    "import os\n",
    "from irouter import Chat\n",
    "from IPython.display import Image, display\n",
    "\n",
    "# To load api keys from .env file create a .env file at the root of the project and specify the keys there (for example OPENAI_API_KEY=your_api_key).\n",
    "# Alternatively pass api_key=your_api_key to the Chat class\n",
    "from dotenv import load_dotenv\n",
    "\n",
    "load_dotenv()"
   ]
  },
  {
   "cell_type": "markdown",
   "id": "38a0fdcd",
   "metadata": {},
   "source": [
    "# OpenAI\n",
    "\n",
    "Here we use `irouter` directly with the OpenAI API by changing the `base_url` and `api_key`. "
   ]
  },
  {
   "cell_type": "code",
   "execution_count": 2,
   "id": "c562e431",
   "metadata": {},
   "outputs": [],
   "source": [
    "c = Chat(\n",
    "    \"gpt-4o-mini\",\n",
    "    base_url=\"https://api.openai.com/v1\",\n",
    "    api_key=os.getenv(\"OPENAI_API_KEY\"),\n",
    ")"
   ]
  },
  {
   "cell_type": "markdown",
   "id": "b447aa8b",
   "metadata": {},
   "source": [
    "You can now use `Chat` as usual, but the calls are routed through `OpenAI` instead of `Openrouter`."
   ]
  },
  {
   "cell_type": "markdown",
   "id": "4129b76a",
   "metadata": {},
   "source": [
    "## Text"
   ]
  },
  {
   "cell_type": "code",
   "execution_count": 3,
   "id": "126aa060",
   "metadata": {},
   "outputs": [
    {
     "data": {
      "text/plain": [
       "\"Hello! I'm just a program, but I'm here and ready to help you. How can I assist you today?\""
      ]
     },
     "execution_count": 3,
     "metadata": {},
     "output_type": "execute_result"
    }
   ],
   "source": [
    "c(\"Hello, how are you doing?\")"
   ]
  },
  {
   "cell_type": "markdown",
   "id": "7b20c4d4",
   "metadata": {},
   "source": [
    "## Image"
   ]
  },
  {
   "cell_type": "code",
   "execution_count": 4,
   "id": "c0ed235e",
   "metadata": {},
   "outputs": [
    {
     "data": {
      "text/html": [
       "<img src=\"https://www.petlandflorida.com/wp-content/uploads/2022/04/shutterstock_1290320698-1-scaled.jpg\" width=\"300\"/>"
      ],
      "text/plain": [
       "<IPython.core.display.Image object>"
      ]
     },
     "metadata": {},
     "output_type": "display_data"
    }
   ],
   "source": [
    "image_url = \"https://www.petlandflorida.com/wp-content/uploads/2022/04/shutterstock_1290320698-1-scaled.jpg\"\n",
    "display(Image(url=image_url, width=300))"
   ]
  },
  {
   "cell_type": "code",
   "execution_count": 5,
   "id": "859c7d57",
   "metadata": {},
   "outputs": [
    {
     "data": {
      "text/plain": [
       "'The image features a cute puppy, likely a Corgi, sitting calmly with a soft expression. Its fur is a mix of tan and white, and it has one ear that is upright and the other that is slightly floppy. The background is blurred with green foliage, creating a pleasant outdoor setting.'"
      ]
     },
     "execution_count": 5,
     "metadata": {},
     "output_type": "execute_result"
    }
   ],
   "source": [
    "c([image_url, \"What is in the image?\"])"
   ]
  },
  {
   "cell_type": "markdown",
   "id": "6cfe639d",
   "metadata": {},
   "source": [
    "# Tool"
   ]
  },
  {
   "cell_type": "code",
   "execution_count": 6,
   "id": "169df534",
   "metadata": {},
   "outputs": [
    {
     "data": {
      "text/plain": [
       "'The current time in New York City is 4:03 PM.'"
      ]
     },
     "execution_count": 6,
     "metadata": {},
     "output_type": "execute_result"
    }
   ],
   "source": [
    "from datetime import datetime\n",
    "from zoneinfo import ZoneInfo\n",
    "\n",
    "\n",
    "def get_time(fmt=\"%Y-%m-%d %H:%M:%S\", tz=None):\n",
    "    \"\"\"Returns the current time formatted as a string.\n",
    "\n",
    "    :param fmt: Format string for strftime.\n",
    "    :param tz: Optional timezone name (e.g., \"UTC\"). If given, uses that timezone.\n",
    "    :returns: The formatted current time.\n",
    "    \"\"\"\n",
    "    dt = datetime.now(ZoneInfo(tz)) if tz else datetime.now()\n",
    "    return dt.strftime(fmt)\n",
    "\n",
    "\n",
    "c(\"What is the current time in New York City?\", tools=[get_time])"
   ]
  }
 ],
 "metadata": {
  "kernelspec": {
   "display_name": "py312",
   "language": "python",
   "name": "python3"
  },
  "language_info": {
   "codemirror_mode": {
    "name": "ipython",
    "version": 3
   },
   "file_extension": ".py",
   "mimetype": "text/x-python",
   "name": "python",
   "nbconvert_exporter": "python",
   "pygments_lexer": "ipython3",
   "version": "3.12.0"
  }
 },
 "nbformat": 4,
 "nbformat_minor": 5
}
